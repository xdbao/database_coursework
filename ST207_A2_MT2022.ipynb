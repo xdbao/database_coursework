{
 "cells": [
  {
   "cell_type": "markdown",
   "id": "ff57cfaa",
   "metadata": {},
   "source": [
    "# ST207 Assignment 2 MT2022"
   ]
  },
  {
   "cell_type": "markdown",
   "id": "582efd9a",
   "metadata": {},
   "source": [
    "## 43727"
   ]
  },
  {
   "cell_type": "code",
   "execution_count": 1,
   "id": "cc3b8a61",
   "metadata": {},
   "outputs": [],
   "source": [
    "import os \n",
    "import sqlite3\n",
    "import pandas as pd"
   ]
  },
  {
   "cell_type": "markdown",
   "id": "d3fb775f",
   "metadata": {},
   "source": [
    "### Connecting to Databases Using Python"
   ]
  },
  {
   "cell_type": "code",
   "execution_count": 2,
   "id": "ac144232",
   "metadata": {},
   "outputs": [],
   "source": [
    "try:\n",
    "    os.remove('Company.db')\n",
    "except OSError:\n",
    "    pass"
   ]
  },
  {
   "cell_type": "code",
   "execution_count": 3,
   "id": "48f2fc69",
   "metadata": {},
   "outputs": [],
   "source": [
    "conn = sqlite3.connect('Company.db')"
   ]
  },
  {
   "cell_type": "code",
   "execution_count": 4,
   "id": "1a160a7c",
   "metadata": {},
   "outputs": [],
   "source": [
    "c = conn.cursor()"
   ]
  },
  {
   "cell_type": "markdown",
   "id": "9b0e3f89",
   "metadata": {},
   "source": [
    "### Creating Tables Using Python"
   ]
  },
  {
   "cell_type": "markdown",
   "id": "499cc52f",
   "metadata": {},
   "source": [
    "Create `EMPLOYEE` table"
   ]
  },
  {
   "cell_type": "code",
   "execution_count": 5,
   "id": "a066d64e",
   "metadata": {},
   "outputs": [
    {
     "data": {
      "text/plain": [
       "<sqlite3.Cursor at 0x7fdee2ce4ab0>"
      ]
     },
     "execution_count": 5,
     "metadata": {},
     "output_type": "execute_result"
    }
   ],
   "source": [
    "c.execute('''\n",
    "CREATE TABLE EMPLOYEE (\n",
    "    employee_id INTEGER NOT NULL,\n",
    "    first_name CHAR(100),\n",
    "    last_name CHAR(40),\n",
    "    date_of_birth DATE FORMAT 'yyyy-mm-dd',\n",
    "    hire_date DATE FORMAT 'yyyy-mm-dd' NOT NULL,\n",
    "    sex CHAR(40),\n",
    "    salary FLOAT NOT NULL,\n",
    "PRIMARY KEY (employee_id)\n",
    ");\n",
    "''')"
   ]
  },
  {
   "cell_type": "code",
   "execution_count": 6,
   "id": "899aa5b2",
   "metadata": {},
   "outputs": [],
   "source": [
    "conn.commit()"
   ]
  },
  {
   "cell_type": "markdown",
   "id": "5a9512fb",
   "metadata": {},
   "source": [
    "Create `EMPLOYEE_LOG` table"
   ]
  },
  {
   "cell_type": "code",
   "execution_count": 7,
   "id": "905ac2fa",
   "metadata": {},
   "outputs": [
    {
     "data": {
      "text/plain": [
       "<sqlite3.Cursor at 0x7fdee2ce4ab0>"
      ]
     },
     "execution_count": 7,
     "metadata": {},
     "output_type": "execute_result"
    }
   ],
   "source": [
    "c.execute('''\n",
    "CREATE TABLE EMPLOYEE_LOG (\n",
    "    employee_id INTEGER NOT NULL,\n",
    "    description CHAR(100) NOT NULL,\n",
    "FOREIGN KEY (employee_id) REFERENCES EMPLOYEE(employee_id) \n",
    "ON DELETE SET NULL\n",
    "ON UPDATE CASCADE\n",
    ");\n",
    "''')"
   ]
  },
  {
   "cell_type": "code",
   "execution_count": 8,
   "id": "c3ae724d",
   "metadata": {},
   "outputs": [],
   "source": [
    "conn.commit()"
   ]
  },
  {
   "cell_type": "markdown",
   "id": "2e63d801",
   "metadata": {},
   "source": [
    "Add `supervisor_id` as a foreign key to the `EMPLOYEE` table"
   ]
  },
  {
   "cell_type": "code",
   "execution_count": 9,
   "id": "53e01967",
   "metadata": {},
   "outputs": [
    {
     "data": {
      "text/plain": [
       "<sqlite3.Cursor at 0x7fdee2ce4ab0>"
      ]
     },
     "execution_count": 9,
     "metadata": {},
     "output_type": "execute_result"
    }
   ],
   "source": [
    "c.execute('''\n",
    "ALTER TABLE EMPLOYEE\n",
    "ADD COLUMN supervisor_id INTEGER NOT NULL \n",
    "REFERENCES EMPLOYEE(employee_id)\n",
    "ON DELETE SET NULL\n",
    "ON UPDATE CASCADE;\n",
    "''')"
   ]
  },
  {
   "cell_type": "code",
   "execution_count": 10,
   "id": "737c8374",
   "metadata": {},
   "outputs": [],
   "source": [
    "conn.commit()"
   ]
  },
  {
   "cell_type": "markdown",
   "id": "70ab9341",
   "metadata": {},
   "source": [
    "Create `DEPARTMENT` table"
   ]
  },
  {
   "cell_type": "code",
   "execution_count": 11,
   "id": "32f5e6ac",
   "metadata": {},
   "outputs": [
    {
     "data": {
      "text/plain": [
       "<sqlite3.Cursor at 0x7fdee2ce4ab0>"
      ]
     },
     "execution_count": 11,
     "metadata": {},
     "output_type": "execute_result"
    }
   ],
   "source": [
    "c.execute('''\n",
    "CREATE TABLE DEPARTMENT (\n",
    "    department_id INTEGER NOT NULL,\n",
    "    department_name CHAR(100),\n",
    "    supervisor_id INTEGER NOT NULL,\n",
    "    supervisor_start_date DATE FORMAT 'yyyy-mm-dd' NOT NULL,\n",
    "PRIMARY KEY (department_id),\n",
    "FOREIGN KEY (supervisor_id) REFERENCES EMPLOYEE(employee_id) \n",
    "ON DELETE SET NULL\n",
    "ON UPDATE CASCADE\n",
    ");''')"
   ]
  },
  {
   "cell_type": "code",
   "execution_count": 12,
   "id": "ffb36a25",
   "metadata": {},
   "outputs": [],
   "source": [
    "conn.commit()"
   ]
  },
  {
   "cell_type": "markdown",
   "id": "b8f05e0d",
   "metadata": {},
   "source": [
    "Add `department_id` as a foreign key to the `EMPLOYEE` table"
   ]
  },
  {
   "cell_type": "code",
   "execution_count": 13,
   "id": "ad1f839d",
   "metadata": {},
   "outputs": [
    {
     "data": {
      "text/plain": [
       "<sqlite3.Cursor at 0x7fdee2ce4ab0>"
      ]
     },
     "execution_count": 13,
     "metadata": {},
     "output_type": "execute_result"
    }
   ],
   "source": [
    "c.execute('''\n",
    "ALTER TABLE EMPLOYEE\n",
    "ADD COLUMN department_id INTEGER NOT NULL\n",
    "REFERENCES DEPARTMENT(department_id)\n",
    "ON DELETE SET NULL\n",
    "ON UPDATE CASCADE;\n",
    "''')"
   ]
  },
  {
   "cell_type": "code",
   "execution_count": 14,
   "id": "e770057a",
   "metadata": {},
   "outputs": [],
   "source": [
    "conn.commit()"
   ]
  },
  {
   "cell_type": "markdown",
   "id": "6458d4d4",
   "metadata": {},
   "source": [
    "Create `CLIENT` table"
   ]
  },
  {
   "cell_type": "code",
   "execution_count": 15,
   "id": "ba623f58",
   "metadata": {},
   "outputs": [
    {
     "data": {
      "text/plain": [
       "<sqlite3.Cursor at 0x7fdee2ce4ab0>"
      ]
     },
     "execution_count": 15,
     "metadata": {},
     "output_type": "execute_result"
    }
   ],
   "source": [
    "c.execute('''\n",
    "CREATE TABLE CLIENT (\n",
    "    client_id INTEGER NOT NULL,\n",
    "    client_name CHAR(100),\n",
    "    department_id INTEGER NOT NULL,\n",
    "PRIMARY KEY (client_id),\n",
    "FOREIGN KEY (department_id) REFERENCES DEPARTMENT(department_id) \n",
    "ON DELETE SET NULL\n",
    "ON UPDATE CASCADE\n",
    ");\n",
    "''')"
   ]
  },
  {
   "cell_type": "code",
   "execution_count": 16,
   "id": "069b293f",
   "metadata": {},
   "outputs": [],
   "source": [
    "conn.commit()"
   ]
  },
  {
   "cell_type": "markdown",
   "id": "8f1c7423",
   "metadata": {},
   "source": [
    "CREATE `PRODUCT` table"
   ]
  },
  {
   "cell_type": "code",
   "execution_count": 17,
   "id": "23d53cb1",
   "metadata": {},
   "outputs": [
    {
     "data": {
      "text/plain": [
       "<sqlite3.Cursor at 0x7fdee2ce4ab0>"
      ]
     },
     "execution_count": 17,
     "metadata": {},
     "output_type": "execute_result"
    }
   ],
   "source": [
    "c.execute('''\n",
    "CREATE TABLE PRODUCT (\n",
    "    product_id INTEGER NOT NULL,\n",
    "    cost FLOAT NOT NULL,\n",
    "    price FLOAT NOT NULL,\n",
    "    product_type CHAR(100) NOT NULL,\n",
    "PRIMARY KEY (product_id),\n",
    "FOREIGN KEY (product_id) REFERENCES PRODUCT(product_id) \n",
    "ON DELETE SET NULL\n",
    "ON UPDATE CASCADE\n",
    ");\n",
    "''')"
   ]
  },
  {
   "cell_type": "code",
   "execution_count": 18,
   "id": "75a3f5e4",
   "metadata": {},
   "outputs": [],
   "source": [
    "conn.commit()"
   ]
  },
  {
   "cell_type": "markdown",
   "id": "7c491e75",
   "metadata": {},
   "source": [
    "Create `DEPARTMENT_SUPPLIER` table"
   ]
  },
  {
   "cell_type": "code",
   "execution_count": 19,
   "id": "511d6b5c",
   "metadata": {},
   "outputs": [
    {
     "data": {
      "text/plain": [
       "<sqlite3.Cursor at 0x7fdee2ce4ab0>"
      ]
     },
     "execution_count": 19,
     "metadata": {},
     "output_type": "execute_result"
    }
   ],
   "source": [
    "c.execute('''\n",
    "CREATE TABLE DEPARTMENT_SUPPLIER (\n",
    "    department_id INTEGER NOT NULL,\n",
    "    supplier_brand CHAR(100) NOT NULL,\n",
    "    product_id INTEGER NOT NULL,\n",
    "PRIMARY KEY (department_id, supplier_brand),\n",
    "FOREIGN KEY (department_id) REFERENCES DEPARTMENT(department_id) \n",
    "ON DELETE CASCADE\n",
    "ON UPDATE CASCADE,\n",
    "FOREIGN KEY (product_id) REFERENCES PRODUCT(product_id) \n",
    "ON DELETE SET NULL\n",
    "ON UPDATE CASCADE\n",
    ");\n",
    "''')"
   ]
  },
  {
   "cell_type": "code",
   "execution_count": 20,
   "id": "56f4136a",
   "metadata": {},
   "outputs": [],
   "source": [
    "conn.commit()"
   ]
  },
  {
   "cell_type": "markdown",
   "id": "6e041aef",
   "metadata": {},
   "source": [
    "Create `ATTENDS_TO` table"
   ]
  },
  {
   "cell_type": "code",
   "execution_count": 21,
   "id": "e296f77c",
   "metadata": {},
   "outputs": [
    {
     "data": {
      "text/plain": [
       "<sqlite3.Cursor at 0x7fdee2ce4ab0>"
      ]
     },
     "execution_count": 21,
     "metadata": {},
     "output_type": "execute_result"
    }
   ],
   "source": [
    "c.execute('''\n",
    "CREATE TABLE ATTENDS_TO (\n",
    "    employee_id INTEGER NOT NULL,\n",
    "    client_id INTEGER NOT NULL,\n",
    "    product_id INTEGER NOT NULL,\n",
    "PRIMARY KEY (employee_id, client_id),\n",
    "FOREIGN KEY (employee_id) REFERENCES EMPLOYEE(employee_id) \n",
    "ON DELETE CASCADE\n",
    "ON UPDATE CASCADE,\n",
    "FOREIGN KEY (client_id) REFERENCES client(client_id) \n",
    "ON DELETE CASCADE\n",
    "ON UPDATE CASCADE,\n",
    "FOREIGN KEY (product_id) REFERENCES PRODUCT(product_id) \n",
    "ON DELETE SET NULL\n",
    "ON UPDATE CASCADE\n",
    ");\n",
    "''')"
   ]
  },
  {
   "cell_type": "code",
   "execution_count": 22,
   "id": "126dc382",
   "metadata": {},
   "outputs": [],
   "source": [
    "conn.commit()"
   ]
  },
  {
   "cell_type": "markdown",
   "id": "65f03c90",
   "metadata": {},
   "source": [
    "List all the tables"
   ]
  },
  {
   "cell_type": "code",
   "execution_count": 23,
   "id": "59184b0a",
   "metadata": {},
   "outputs": [
    {
     "data": {
      "text/plain": [
       "[('EMPLOYEE',),\n",
       " ('EMPLOYEE_LOG',),\n",
       " ('DEPARTMENT',),\n",
       " ('CLIENT',),\n",
       " ('PRODUCT',),\n",
       " ('DEPARTMENT_SUPPLIER',),\n",
       " ('ATTENDS_TO',)]"
      ]
     },
     "execution_count": 23,
     "metadata": {},
     "output_type": "execute_result"
    }
   ],
   "source": [
    "c.execute('''\n",
    "SELECT name \n",
    "FROM sqlite_master \n",
    "WHERE type='table';\n",
    "''').fetchall()"
   ]
  },
  {
   "cell_type": "markdown",
   "id": "e5b0c079",
   "metadata": {},
   "source": [
    "### Manipulating Database using Python"
   ]
  },
  {
   "cell_type": "markdown",
   "id": "d6bf7749",
   "metadata": {},
   "source": [
    "#### Insert & Update Tuples/Row"
   ]
  },
  {
   "cell_type": "markdown",
   "id": "4168f154",
   "metadata": {},
   "source": [
    "Insert values of supervisors into `EMPLOYEE` table"
   ]
  },
  {
   "cell_type": "code",
   "execution_count": 24,
   "id": "ac7e16b1",
   "metadata": {},
   "outputs": [
    {
     "data": {
      "text/plain": [
       "<sqlite3.Cursor at 0x7fdee2ce4ab0>"
      ]
     },
     "execution_count": 24,
     "metadata": {},
     "output_type": "execute_result"
    }
   ],
   "source": [
    "c.execute('''\n",
    "INSERT INTO EMPLOYEE ('employee_id','first_name','last_name',\n",
    "'date_of_birth','hire_date','sex','salary','supervisor_id','department_id') VALUES\n",
    "(10, 'Jay','Chou','1995-01-01','2020-01-01','Male',200000,10,100),\n",
    "(20, 'Joseph','Chin','1992-01-02','2020-02-01','Male',80000,20,200),\n",
    "(30, 'Eric','Law','1994-01-03','2020-01-21','Male',60000,30,300);\n",
    "''')"
   ]
  },
  {
   "cell_type": "code",
   "execution_count": 25,
   "id": "510f4d57",
   "metadata": {},
   "outputs": [],
   "source": [
    "conn.commit() "
   ]
  },
  {
   "cell_type": "markdown",
   "id": "c849128d",
   "metadata": {},
   "source": [
    "Insert values into `DEPARTMENT` table"
   ]
  },
  {
   "cell_type": "code",
   "execution_count": 26,
   "id": "a24aa191",
   "metadata": {},
   "outputs": [
    {
     "data": {
      "text/plain": [
       "<sqlite3.Cursor at 0x7fdee2ce4ab0>"
      ]
     },
     "execution_count": 26,
     "metadata": {},
     "output_type": "execute_result"
    }
   ],
   "source": [
    "c.execute('''\n",
    "INSERT INTO DEPARTMENT('department_id','department_name',\n",
    "'supervisor_id','supervisor_start_date') VALUES\n",
    "(100, 'ABC',10,'2020-01-01'),\n",
    "(200, 'DEF',20,'2020-02-01'),\n",
    "(300, 'GHI',30,'2020-01-21');\n",
    "''')"
   ]
  },
  {
   "cell_type": "code",
   "execution_count": 27,
   "id": "9675c84d",
   "metadata": {},
   "outputs": [],
   "source": [
    "conn.commit()"
   ]
  },
  {
   "cell_type": "markdown",
   "id": "bf31e1c3",
   "metadata": {},
   "source": [
    "Insert values of supervisees into `EMPLOYEE` table. "
   ]
  },
  {
   "cell_type": "code",
   "execution_count": 28,
   "id": "451cce94",
   "metadata": {},
   "outputs": [
    {
     "data": {
      "text/plain": [
       "<sqlite3.Cursor at 0x7fdee2ce4ab0>"
      ]
     },
     "execution_count": 28,
     "metadata": {},
     "output_type": "execute_result"
    }
   ],
   "source": [
    "c.execute('''\n",
    "INSERT INTO EMPLOYEE ('employee_id','first_name','last_name',\n",
    "'date_of_birth','hire_date','sex','salary','supervisor_id','department_id') VALUES\n",
    "(11, 'Emily','Tan','1995-05-01','2020-02-01','Female',100000,10,100),\n",
    "(12, 'Kanye','West','1992-05-02','2020-02-02','Male',100000,10,100),\n",
    "(21, 'Kendrick','Lamar','1993-01-03','2020-03-01','Male',70000,20,200),\n",
    "(22, 'Jenn','Im','1994-01-01','2020-03-02','Female',70000,20,200),\n",
    "(31, 'Sky','Leo','1991-01-02','2020-01-22','Male',50000,30,300),\n",
    "(32, 'Ezekiel','Tan','1994-01-03','2020-01-23','Male',50000,30,300);\n",
    "''')"
   ]
  },
  {
   "cell_type": "code",
   "execution_count": 29,
   "id": "7c5d8389",
   "metadata": {},
   "outputs": [],
   "source": [
    "conn.commit() "
   ]
  },
  {
   "cell_type": "markdown",
   "id": "30446678",
   "metadata": {},
   "source": [
    "Insert values into `PRODUCT` table"
   ]
  },
  {
   "cell_type": "code",
   "execution_count": 30,
   "id": "f3a03d9c",
   "metadata": {},
   "outputs": [
    {
     "data": {
      "text/plain": [
       "<sqlite3.Cursor at 0x7fdee2ce4ab0>"
      ]
     },
     "execution_count": 30,
     "metadata": {},
     "output_type": "execute_result"
    }
   ],
   "source": [
    "c.execute('''\n",
    "INSERT INTO PRODUCT (product_id,cost,price,product_type) VALUES\n",
    "(401,10,15,'Paper'),\n",
    "(402,15,20,'Pen'),\n",
    "(403,18,23,'Eraser'),\n",
    "(404,20,25,'Paper'),\n",
    "(405,10,15 ,'Paper'),\n",
    "(406,15,20,'Pen'),\n",
    "(407,30,33,'Eraser');\n",
    "''')"
   ]
  },
  {
   "cell_type": "markdown",
   "id": "98f49444",
   "metadata": {},
   "source": [
    "Insert values into `DEPARTMENT_SUPPLIER` table"
   ]
  },
  {
   "cell_type": "code",
   "execution_count": 31,
   "id": "2ba14782",
   "metadata": {},
   "outputs": [
    {
     "data": {
      "text/plain": [
       "<sqlite3.Cursor at 0x7fdee2ce4ab0>"
      ]
     },
     "execution_count": 31,
     "metadata": {},
     "output_type": "execute_result"
    }
   ],
   "source": [
    "c.execute('''\n",
    "INSERT INTO DEPARTMENT_SUPPLIER ('department_id',\n",
    "'supplier_brand','product_id') VALUES\n",
    "(100,'Keshi',401),\n",
    "(200,'Denji',402),\n",
    "(200,'Henry', 403),\n",
    "(300,'Alysha',404),\n",
    "(300,'Keshi',405),\n",
    "(300,'Denji',406),\n",
    "(300,'Harith',407);\n",
    "''')"
   ]
  },
  {
   "cell_type": "code",
   "execution_count": 32,
   "id": "a11fa8d4",
   "metadata": {},
   "outputs": [],
   "source": [
    "conn.commit()"
   ]
  },
  {
   "cell_type": "markdown",
   "id": "44f9ea90",
   "metadata": {},
   "source": [
    "Insert values into `CLIENT` table"
   ]
  },
  {
   "cell_type": "code",
   "execution_count": 33,
   "id": "aba03cbe",
   "metadata": {},
   "outputs": [
    {
     "data": {
      "text/plain": [
       "<sqlite3.Cursor at 0x7fdee2ce4ab0>"
      ]
     },
     "execution_count": 33,
     "metadata": {},
     "output_type": "execute_result"
    }
   ],
   "source": [
    "c.execute('''\n",
    "INSERT INTO CLIENT ('client_id',\n",
    "'client_name','department_id') VALUES\n",
    "(300,'Fanta',100),\n",
    "(301,'Lynn',200),\n",
    "(302,'Justin',300),\n",
    "(303,'Henry',300),\n",
    "(304,'Jia',300),\n",
    "(305,'Emily',300),\n",
    "(306,'Leo',200);\n",
    "''')"
   ]
  },
  {
   "cell_type": "code",
   "execution_count": 34,
   "id": "fee1ebfc",
   "metadata": {},
   "outputs": [],
   "source": [
    "conn.commit()"
   ]
  },
  {
   "cell_type": "markdown",
   "id": "10732aa9",
   "metadata": {},
   "source": [
    "Insert values into `ATTENDS_TO` table"
   ]
  },
  {
   "cell_type": "code",
   "execution_count": 35,
   "id": "3a829492",
   "metadata": {},
   "outputs": [
    {
     "data": {
      "text/plain": [
       "<sqlite3.Cursor at 0x7fdee2ce4ab0>"
      ]
     },
     "execution_count": 35,
     "metadata": {},
     "output_type": "execute_result"
    }
   ],
   "source": [
    "c.execute('''\n",
    "INSERT INTO ATTENDS_TO ('employee_id',\n",
    "'client_id','product_id') VALUES\n",
    "(11,300,401),\n",
    "(11,301,402),\n",
    "(12,306,403),\n",
    "(21,302,404),\n",
    "(22,303,405),\n",
    "(31,304,406),\n",
    "(32,305,407);\n",
    "''')"
   ]
  },
  {
   "cell_type": "code",
   "execution_count": 36,
   "id": "1f4c2894",
   "metadata": {},
   "outputs": [],
   "source": [
    "conn.commit()"
   ]
  },
  {
   "cell_type": "markdown",
   "id": "00617c8f",
   "metadata": {},
   "source": [
    "### Views"
   ]
  },
  {
   "cell_type": "markdown",
   "id": "b35f6316",
   "metadata": {},
   "source": [
    "#### Create TEMP VIEW"
   ]
  },
  {
   "cell_type": "markdown",
   "id": "ffa4b218",
   "metadata": {},
   "source": [
    "1i. A supplier who supplies papers wants to see the list of paper product brand that the company has. Create a temporary view `BRAND_PAPER` to show data of product type of paper only. The view `BRAND_PAPER` only demonstrates `supplier_brand` and `product type` as attributes. There is no new attributes in the view. Attributes ` department_id`, `product_id`, `cost` and `price` are hidden."
   ]
  },
  {
   "cell_type": "code",
   "execution_count": 37,
   "id": "39bd3818",
   "metadata": {},
   "outputs": [
    {
     "data": {
      "text/plain": [
       "<sqlite3.Cursor at 0x7fdee2ce4ab0>"
      ]
     },
     "execution_count": 37,
     "metadata": {},
     "output_type": "execute_result"
    }
   ],
   "source": [
    "c.execute('''\n",
    "CREATE TEMP VIEW IF NOT EXISTS BRAND_PAPER AS \n",
    "SELECT DISTINCT supplier_brand,product_type\n",
    "FROM DEPARTMENT_SUPPLIER JOIN PRODUCT\n",
    "ON DEPARTMENT_SUPPLIER.product_id = PRODUCT.product_id\n",
    "WHERE PRODUCT.product_type = 'Paper'\n",
    "''')"
   ]
  },
  {
   "cell_type": "code",
   "execution_count": 38,
   "id": "4779ee54",
   "metadata": {},
   "outputs": [],
   "source": [
    "conn.commit()"
   ]
  },
  {
   "cell_type": "markdown",
   "id": "a53a832b",
   "metadata": {},
   "source": [
    "#### Querying the VIEW"
   ]
  },
  {
   "cell_type": "markdown",
   "id": "f286b946",
   "metadata": {},
   "source": [
    "1ii. Query `BRAND_PAPER` view"
   ]
  },
  {
   "cell_type": "code",
   "execution_count": 39,
   "id": "39725f44",
   "metadata": {},
   "outputs": [
    {
     "data": {
      "text/html": [
       "<div>\n",
       "<style scoped>\n",
       "    .dataframe tbody tr th:only-of-type {\n",
       "        vertical-align: middle;\n",
       "    }\n",
       "\n",
       "    .dataframe tbody tr th {\n",
       "        vertical-align: top;\n",
       "    }\n",
       "\n",
       "    .dataframe thead th {\n",
       "        text-align: right;\n",
       "    }\n",
       "</style>\n",
       "<table border=\"1\" class=\"dataframe\">\n",
       "  <thead>\n",
       "    <tr style=\"text-align: right;\">\n",
       "      <th></th>\n",
       "      <th>supplier_brand</th>\n",
       "      <th>product_type</th>\n",
       "    </tr>\n",
       "  </thead>\n",
       "  <tbody>\n",
       "    <tr>\n",
       "      <th>0</th>\n",
       "      <td>Keshi</td>\n",
       "      <td>Paper</td>\n",
       "    </tr>\n",
       "    <tr>\n",
       "      <th>1</th>\n",
       "      <td>Alysha</td>\n",
       "      <td>Paper</td>\n",
       "    </tr>\n",
       "  </tbody>\n",
       "</table>\n",
       "</div>"
      ],
      "text/plain": [
       "  supplier_brand product_type\n",
       "0          Keshi        Paper\n",
       "1         Alysha        Paper"
      ]
     },
     "execution_count": 39,
     "metadata": {},
     "output_type": "execute_result"
    }
   ],
   "source": [
    "brand_paper = c.execute('''\n",
    "SELECT *\n",
    "FROM BRAND_PAPER\n",
    "''').fetchall()\n",
    "\n",
    "\n",
    "brand_paper = pd.DataFrame(brand_paper)\n",
    "brand_paper = brand_paper.rename({0: 'supplier_brand', 1: 'product_type'}, axis=1)\n",
    "brand_paper"
   ]
  },
  {
   "cell_type": "markdown",
   "id": "1f6e94c4",
   "metadata": {},
   "source": [
    "1iii. It it not possible for the paper supplier to modify a view through `INSERT`, `DELETE` or `UPDATE` command"
   ]
  },
  {
   "cell_type": "code",
   "execution_count": 40,
   "id": "36df890a",
   "metadata": {},
   "outputs": [
    {
     "ename": "OperationalError",
     "evalue": "cannot modify BRAND_PAPER because it is a view",
     "output_type": "error",
     "traceback": [
      "\u001b[0;31m---------------------------------------------------------------------------\u001b[0m",
      "\u001b[0;31mOperationalError\u001b[0m                          Traceback (most recent call last)",
      "\u001b[0;32m/var/folders/h4/ks8fvpr12l3bb75xw2xsw1yc0000gn/T/ipykernel_16368/3543273485.py\u001b[0m in \u001b[0;36m<module>\u001b[0;34m\u001b[0m\n\u001b[0;32m----> 1\u001b[0;31m c.execute('''\n\u001b[0m\u001b[1;32m      2\u001b[0m \u001b[0mINSERT\u001b[0m \u001b[0mINTO\u001b[0m \u001b[0mBRAND_PAPER\u001b[0m\u001b[0;34m\u001b[0m\u001b[0;34m\u001b[0m\u001b[0m\n\u001b[1;32m      3\u001b[0m \u001b[0mVALUES\u001b[0m \u001b[0;34m(\u001b[0m\u001b[0;36m200\u001b[0m\u001b[0;34m,\u001b[0m\u001b[0;34m'Keshi'\u001b[0m\u001b[0;34m,\u001b[0m\u001b[0;34m'Paper'\u001b[0m\u001b[0;34m)\u001b[0m\u001b[0;34m;\u001b[0m\u001b[0;34m\u001b[0m\u001b[0;34m\u001b[0m\u001b[0m\n\u001b[1;32m      4\u001b[0m ''')\n",
      "\u001b[0;31mOperationalError\u001b[0m: cannot modify BRAND_PAPER because it is a view"
     ]
    }
   ],
   "source": [
    "c.execute('''\n",
    "INSERT INTO BRAND_PAPER\n",
    "VALUES (200,'Keshi','Paper');\n",
    "''')"
   ]
  },
  {
   "cell_type": "code",
   "execution_count": 47,
   "id": "c4b6b40c",
   "metadata": {},
   "outputs": [
    {
     "ename": "OperationalError",
     "evalue": "cannot modify BRAND_PAPER because it is a view",
     "output_type": "error",
     "traceback": [
      "\u001b[0;31m---------------------------------------------------------------------------\u001b[0m",
      "\u001b[0;31mOperationalError\u001b[0m                          Traceback (most recent call last)",
      "\u001b[0;32m/var/folders/h4/ks8fvpr12l3bb75xw2xsw1yc0000gn/T/ipykernel_16368/3838793155.py\u001b[0m in \u001b[0;36m<module>\u001b[0;34m\u001b[0m\n\u001b[0;32m----> 1\u001b[0;31m c.execute('''\n\u001b[0m\u001b[1;32m      2\u001b[0m \u001b[0mDELETE\u001b[0m \u001b[0mFROM\u001b[0m \u001b[0mBRAND_PAPER\u001b[0m\u001b[0;34m\u001b[0m\u001b[0;34m\u001b[0m\u001b[0m\n\u001b[1;32m      3\u001b[0m \u001b[0mwhere\u001b[0m \u001b[0mname\u001b[0m \u001b[0;34m=\u001b[0m \u001b[0;34m'Keshi'\u001b[0m\u001b[0;34m\u001b[0m\u001b[0;34m\u001b[0m\u001b[0m\n\u001b[1;32m      4\u001b[0m ''')\n",
      "\u001b[0;31mOperationalError\u001b[0m: cannot modify BRAND_PAPER because it is a view"
     ]
    }
   ],
   "source": [
    "c.execute('''\n",
    "DELETE FROM BRAND_PAPER\n",
    "where name = 'Keshi'\n",
    "''')"
   ]
  },
  {
   "cell_type": "code",
   "execution_count": 48,
   "id": "fa2d8ee1",
   "metadata": {},
   "outputs": [
    {
     "ename": "OperationalError",
     "evalue": "cannot modify BRAND_PAPER because it is a view",
     "output_type": "error",
     "traceback": [
      "\u001b[0;31m---------------------------------------------------------------------------\u001b[0m",
      "\u001b[0;31mOperationalError\u001b[0m                          Traceback (most recent call last)",
      "\u001b[0;32m/var/folders/h4/ks8fvpr12l3bb75xw2xsw1yc0000gn/T/ipykernel_16368/3540628355.py\u001b[0m in \u001b[0;36m<module>\u001b[0;34m\u001b[0m\n\u001b[0;32m----> 1\u001b[0;31m c.execute('''\n\u001b[0m\u001b[1;32m      2\u001b[0m \u001b[0mUPDATE\u001b[0m \u001b[0mBRAND_PAPER\u001b[0m\u001b[0;34m\u001b[0m\u001b[0;34m\u001b[0m\u001b[0m\n\u001b[1;32m      3\u001b[0m \u001b[0mSET\u001b[0m \u001b[0mdepartment_id\u001b[0m \u001b[0;34m=\u001b[0m \u001b[0;36m123\u001b[0m\u001b[0;34m\u001b[0m\u001b[0;34m\u001b[0m\u001b[0m\n\u001b[1;32m      4\u001b[0m \u001b[0mWHERE\u001b[0m \u001b[0mproduct_type\u001b[0m \u001b[0;34m=\u001b[0m \u001b[0;34m'Paper'\u001b[0m\u001b[0;34m;\u001b[0m\u001b[0;34m\u001b[0m\u001b[0;34m\u001b[0m\u001b[0m\n\u001b[1;32m      5\u001b[0m ''')\n",
      "\u001b[0;31mOperationalError\u001b[0m: cannot modify BRAND_PAPER because it is a view"
     ]
    }
   ],
   "source": [
    "c.execute('''\n",
    "UPDATE BRAND_PAPER\n",
    "SET department_id = 123\n",
    "WHERE product_type = 'Paper';\n",
    "''')"
   ]
  },
  {
   "cell_type": "markdown",
   "id": "9cdacf61",
   "metadata": {},
   "source": [
    "#### Create  TEMP VIEW"
   ]
  },
  {
   "cell_type": "markdown",
   "id": "1f8ab13f",
   "metadata": {},
   "source": [
    "2i. Create a temporary view `TOP_EMPLOYEE_VIEW` to identify the employee that conduct top sales. The attribute in `TOP_EMPLOYEE_VIEW` is `employee_id`. The new attribute is `total_sales` in the view. A certificate with employee's first and last name would be printed and awarded to the employee."
   ]
  },
  {
   "cell_type": "code",
   "execution_count": 49,
   "id": "c944d56b",
   "metadata": {},
   "outputs": [],
   "source": [
    "TOP_EMPLOYEE_VIEW = c.execute('''\n",
    "CREATE TEMP VIEW IF NOT EXISTS TOP_EMPLOYEE_VIEW AS\n",
    "SELECT ATTENDS_TO.employee_id,SUM(PRODUCT.price) as sum\n",
    "FROM ATTENDS_TO INNER JOIN PRODUCT\n",
    "ON ATTENDS_TO.product_id =PRODUCT.product_id \n",
    "GROUP BY ATTENDS_TO.employee_id\n",
    "ORDER BY sum DESC\n",
    "LIMIT 1\n",
    "''').fetchall()"
   ]
  },
  {
   "cell_type": "code",
   "execution_count": 50,
   "id": "04ba19ab",
   "metadata": {},
   "outputs": [],
   "source": [
    "conn.commit()"
   ]
  },
  {
   "cell_type": "markdown",
   "id": "4f9e7adf",
   "metadata": {},
   "source": [
    "#### Querying the view"
   ]
  },
  {
   "cell_type": "markdown",
   "id": "7c945f01",
   "metadata": {},
   "source": [
    "2ii. Efficient querying: The view `TOP_EMPLOYEE_VIEW` is then used in `JOIN` operation to obtain the first and last name of the employee who conduct top sales."
   ]
  },
  {
   "cell_type": "code",
   "execution_count": 51,
   "id": "081727f0",
   "metadata": {},
   "outputs": [
    {
     "data": {
      "text/html": [
       "<div>\n",
       "<style scoped>\n",
       "    .dataframe tbody tr th:only-of-type {\n",
       "        vertical-align: middle;\n",
       "    }\n",
       "\n",
       "    .dataframe tbody tr th {\n",
       "        vertical-align: top;\n",
       "    }\n",
       "\n",
       "    .dataframe thead th {\n",
       "        text-align: right;\n",
       "    }\n",
       "</style>\n",
       "<table border=\"1\" class=\"dataframe\">\n",
       "  <thead>\n",
       "    <tr style=\"text-align: right;\">\n",
       "      <th></th>\n",
       "      <th>first_name</th>\n",
       "      <th>last_name</th>\n",
       "    </tr>\n",
       "  </thead>\n",
       "  <tbody>\n",
       "    <tr>\n",
       "      <th>0</th>\n",
       "      <td>Emily</td>\n",
       "      <td>Tan</td>\n",
       "    </tr>\n",
       "  </tbody>\n",
       "</table>\n",
       "</div>"
      ],
      "text/plain": [
       "  first_name last_name\n",
       "0      Emily       Tan"
      ]
     },
     "execution_count": 51,
     "metadata": {},
     "output_type": "execute_result"
    }
   ],
   "source": [
    "TOP_EMPLOYEE_NAME = c.execute('''\n",
    "SELECT first_name, last_name\n",
    "FROM TOP_EMPLOYEE_VIEW JOIN EMPLOYEE\n",
    "WHERE TOP_EMPLOYEE_VIEW.employee_id = EMPLOYEE.employee_id;\n",
    "''').fetchall()\n",
    "\n",
    "TOP_EMPLOYEE_NAME = pd.DataFrame(TOP_EMPLOYEE_NAME)\n",
    "TOP_EMPLOYEE_NAME = TOP_EMPLOYEE_NAME.rename({0: 'first_name', 1: 'last_name'}, axis=1)\n",
    "TOP_EMPLOYEE_NAME"
   ]
  },
  {
   "cell_type": "markdown",
   "id": "24d388a8",
   "metadata": {},
   "source": [
    "### Triggers"
   ]
  },
  {
   "cell_type": "markdown",
   "id": "dc807a48",
   "metadata": {},
   "source": [
    "1. Trigger: All employees’ salaries cannot be negative. However, salaries can be zero as there are unpaid internships offered by the company."
   ]
  },
  {
   "cell_type": "markdown",
   "id": "1e8b19fe",
   "metadata": {},
   "source": [
    "Trigger: Disallow insertions of negative salary"
   ]
  },
  {
   "cell_type": "code",
   "execution_count": 52,
   "id": "4462ad73",
   "metadata": {},
   "outputs": [
    {
     "data": {
      "text/plain": [
       "<sqlite3.Cursor at 0x7fdee2ce4ab0>"
      ]
     },
     "execution_count": 52,
     "metadata": {},
     "output_type": "execute_result"
    }
   ],
   "source": [
    "c.execute('''\n",
    "CREATE TRIGGER MIN_SALARY_INSERT\n",
    "BEFORE INSERT ON EMPLOYEE\n",
    "FOR EACH ROW\n",
    "BEGIN\n",
    "SELECT CASE\n",
    "WHEN (NEW.SALARY < 0 ) \n",
    "THEN RAISE(FAIL, 'ERROR: Salary cannot be negative.')\n",
    "END;\n",
    "END;\n",
    "''')"
   ]
  },
  {
   "cell_type": "code",
   "execution_count": 53,
   "id": "898d38d4",
   "metadata": {},
   "outputs": [],
   "source": [
    "conn.commit()"
   ]
  },
  {
   "cell_type": "markdown",
   "id": "f36398a1",
   "metadata": {},
   "source": [
    "Trigger: Disallow updates of negative salary"
   ]
  },
  {
   "cell_type": "code",
   "execution_count": 54,
   "id": "2183ec63",
   "metadata": {},
   "outputs": [
    {
     "data": {
      "text/plain": [
       "<sqlite3.Cursor at 0x7fdee2ce4ab0>"
      ]
     },
     "execution_count": 54,
     "metadata": {},
     "output_type": "execute_result"
    }
   ],
   "source": [
    "c.execute('''\n",
    "CREATE TRIGGER MIN_SALARY_UPDATE\n",
    "BEFORE UPDATE ON EMPLOYEE\n",
    "FOR EACH ROW\n",
    "BEGIN\n",
    "SELECT CASE\n",
    "WHEN (NEW.SALARY < 0 ) \n",
    "THEN RAISE(FAIL, 'ERROR: Salary cannot be negative.')\n",
    "END;\n",
    "END;\n",
    "''')"
   ]
  },
  {
   "cell_type": "code",
   "execution_count": 55,
   "id": "80b6894a",
   "metadata": {},
   "outputs": [],
   "source": [
    "conn.commit()"
   ]
  },
  {
   "cell_type": "markdown",
   "id": "0aa34dd6",
   "metadata": {},
   "source": [
    "Testing the trigger : Insert negative salary"
   ]
  },
  {
   "cell_type": "code",
   "execution_count": 56,
   "id": "d3cd7210",
   "metadata": {},
   "outputs": [
    {
     "ename": "IntegrityError",
     "evalue": "ERROR: Salary cannot be negative.",
     "output_type": "error",
     "traceback": [
      "\u001b[0;31m---------------------------------------------------------------------------\u001b[0m",
      "\u001b[0;31mIntegrityError\u001b[0m                            Traceback (most recent call last)",
      "\u001b[0;32m/var/folders/h4/ks8fvpr12l3bb75xw2xsw1yc0000gn/T/ipykernel_16368/4023009961.py\u001b[0m in \u001b[0;36m<module>\u001b[0;34m\u001b[0m\n\u001b[0;32m----> 1\u001b[0;31m c.execute('''\n\u001b[0m\u001b[1;32m      2\u001b[0m \u001b[0mINSERT\u001b[0m \u001b[0mINTO\u001b[0m \u001b[0mEMPLOYEE\u001b[0m\u001b[0;34m\u001b[0m\u001b[0;34m\u001b[0m\u001b[0m\n\u001b[1;32m      3\u001b[0m \u001b[0mVALUES\u001b[0m \u001b[0;34m(\u001b[0m\u001b[0;36m33\u001b[0m\u001b[0;34m,\u001b[0m \u001b[0;34m'Emily'\u001b[0m\u001b[0;34m,\u001b[0m\u001b[0;34m'Lim'\u001b[0m\u001b[0;34m,\u001b[0m\u001b[0;34m'1991-05-01'\u001b[0m\u001b[0;34m,\u001b[0m\u001b[0;34m'2020-01-23'\u001b[0m\u001b[0;34m,\u001b[0m\u001b[0;34m'Female'\u001b[0m\u001b[0;34m,\u001b[0m\u001b[0;34m-\u001b[0m\u001b[0;36m10000\u001b[0m\u001b[0;34m,\u001b[0m\u001b[0;36m10\u001b[0m\u001b[0;34m,\u001b[0m\u001b[0;36m100\u001b[0m\u001b[0;34m)\u001b[0m\u001b[0;34m;\u001b[0m\u001b[0;34m\u001b[0m\u001b[0;34m\u001b[0m\u001b[0m\n\u001b[1;32m      4\u001b[0m ''')\n",
      "\u001b[0;31mIntegrityError\u001b[0m: ERROR: Salary cannot be negative."
     ]
    }
   ],
   "source": [
    "c.execute('''\n",
    "INSERT INTO EMPLOYEE\n",
    "VALUES (33, 'Emily','Lim','1991-05-01','2020-01-23','Female',-10000,10,100);\n",
    "''')"
   ]
  },
  {
   "cell_type": "markdown",
   "id": "bcf3d6d1",
   "metadata": {},
   "source": [
    "Testing the trigger : Update negative salary"
   ]
  },
  {
   "cell_type": "code",
   "execution_count": 57,
   "id": "4f51859d",
   "metadata": {},
   "outputs": [
    {
     "ename": "IntegrityError",
     "evalue": "ERROR: Salary cannot be negative.",
     "output_type": "error",
     "traceback": [
      "\u001b[0;31m---------------------------------------------------------------------------\u001b[0m",
      "\u001b[0;31mIntegrityError\u001b[0m                            Traceback (most recent call last)",
      "\u001b[0;32m/var/folders/h4/ks8fvpr12l3bb75xw2xsw1yc0000gn/T/ipykernel_16368/700136217.py\u001b[0m in \u001b[0;36m<module>\u001b[0;34m\u001b[0m\n\u001b[0;32m----> 1\u001b[0;31m c.execute('''\n\u001b[0m\u001b[1;32m      2\u001b[0m \u001b[0mUPDATE\u001b[0m \u001b[0mEMPLOYEE\u001b[0m\u001b[0;34m\u001b[0m\u001b[0;34m\u001b[0m\u001b[0m\n\u001b[1;32m      3\u001b[0m \u001b[0mSET\u001b[0m \u001b[0msalary\u001b[0m \u001b[0;34m=\u001b[0m \u001b[0;34m-\u001b[0m\u001b[0;36m10000\u001b[0m\u001b[0;34m\u001b[0m\u001b[0;34m\u001b[0m\u001b[0m\n\u001b[1;32m      4\u001b[0m \u001b[0mWHERE\u001b[0m \u001b[0memployee_id\u001b[0m \u001b[0;34m=\u001b[0m \u001b[0;36m20\u001b[0m\u001b[0;34m;\u001b[0m\u001b[0;34m\u001b[0m\u001b[0;34m\u001b[0m\u001b[0m\n\u001b[1;32m      5\u001b[0m ''')\n",
      "\u001b[0;31mIntegrityError\u001b[0m: ERROR: Salary cannot be negative."
     ]
    }
   ],
   "source": [
    "c.execute('''\n",
    "UPDATE EMPLOYEE\n",
    "SET salary = -10000\n",
    "WHERE employee_id = 20;\n",
    "''')"
   ]
  },
  {
   "cell_type": "markdown",
   "id": "7308e295",
   "metadata": {},
   "source": [
    "Testing the trigger : Insert positive salary"
   ]
  },
  {
   "cell_type": "code",
   "execution_count": 58,
   "id": "0a8d13c5",
   "metadata": {},
   "outputs": [
    {
     "data": {
      "text/plain": [
       "<sqlite3.Cursor at 0x7fdee2ce4ab0>"
      ]
     },
     "execution_count": 58,
     "metadata": {},
     "output_type": "execute_result"
    }
   ],
   "source": [
    "c.execute('''\n",
    "INSERT INTO EMPLOYEE\n",
    "VALUES (33, 'Ryan','Leo','1991-05-01','2020-01-23','Male',10000,10,100);\n",
    "''')"
   ]
  },
  {
   "cell_type": "code",
   "execution_count": 59,
   "id": "1e24ea28",
   "metadata": {},
   "outputs": [],
   "source": [
    "conn.commit()"
   ]
  },
  {
   "cell_type": "markdown",
   "id": "1efc2b5b",
   "metadata": {},
   "source": [
    "Testing the trigger : Update positive salary"
   ]
  },
  {
   "cell_type": "code",
   "execution_count": 60,
   "id": "8d18d0b9",
   "metadata": {},
   "outputs": [
    {
     "data": {
      "text/plain": [
       "<sqlite3.Cursor at 0x7fdee2ce4ab0>"
      ]
     },
     "execution_count": 60,
     "metadata": {},
     "output_type": "execute_result"
    }
   ],
   "source": [
    "c.execute('''\n",
    "UPDATE EMPLOYEE\n",
    "SET salary = 40000\n",
    "WHERE employee_id = 33;\n",
    "''')"
   ]
  },
  {
   "cell_type": "code",
   "execution_count": 61,
   "id": "f94d8738",
   "metadata": {},
   "outputs": [],
   "source": [
    "conn.commit()"
   ]
  },
  {
   "cell_type": "markdown",
   "id": "d5c5ce3d",
   "metadata": {},
   "source": [
    "2. Trigger: All employees’ salaries cannot be larger than his or her supervisors."
   ]
  },
  {
   "cell_type": "markdown",
   "id": "e33dd330",
   "metadata": {},
   "source": [
    "Trigger: Disallow insertions of salary larger than his or her supervisors."
   ]
  },
  {
   "cell_type": "code",
   "execution_count": 62,
   "id": "f2a35b2b",
   "metadata": {},
   "outputs": [
    {
     "data": {
      "text/plain": [
       "<sqlite3.Cursor at 0x7fdee2ce4ab0>"
      ]
     },
     "execution_count": 62,
     "metadata": {},
     "output_type": "execute_result"
    }
   ],
   "source": [
    "c.execute('''\n",
    "CREATE TRIGGER SALARY_VIOLATION_INSERT\n",
    "BEFORE INSERT ON EMPLOYEE\n",
    "FOR EACH ROW\n",
    "BEGIN\n",
    "SELECT CASE\n",
    "WHEN (NEW.SALARY > ( SELECT Salary FROM EMPLOYEE\n",
    "  WHERE employee_id = NEW.supervisor_id) ) \n",
    "THEN RAISE(FAIL, 'ERROR: Salary cannot be larger than his or her supervisor.')\n",
    "END;\n",
    "END;\n",
    "''')"
   ]
  },
  {
   "cell_type": "code",
   "execution_count": 63,
   "id": "20c31349",
   "metadata": {},
   "outputs": [],
   "source": [
    "conn.commit()"
   ]
  },
  {
   "cell_type": "markdown",
   "id": "e23ddc3a",
   "metadata": {},
   "source": [
    "Trigger: Disallow updates of salary larger than his or her supervisors."
   ]
  },
  {
   "cell_type": "code",
   "execution_count": 64,
   "id": "57a6e94e",
   "metadata": {},
   "outputs": [
    {
     "data": {
      "text/plain": [
       "<sqlite3.Cursor at 0x7fdee2ce4ab0>"
      ]
     },
     "execution_count": 64,
     "metadata": {},
     "output_type": "execute_result"
    }
   ],
   "source": [
    "c.execute('''\n",
    "CREATE TRIGGER SALARY_VIOLATION_UPDATE\n",
    "BEFORE UPDATE ON EMPLOYEE\n",
    "FOR EACH ROW\n",
    "BEGIN\n",
    "SELECT CASE\n",
    "WHEN (NEW.SALARY > ( SELECT Salary FROM EMPLOYEE\n",
    "  WHERE employee_id = NEW.supervisor_id) ) \n",
    "THEN RAISE(FAIL, 'ERROR: Salary cannot be larger than his or her supervisor.')\n",
    "END;\n",
    "END;\n",
    "''')"
   ]
  },
  {
   "cell_type": "code",
   "execution_count": 65,
   "id": "65d8fec2",
   "metadata": {},
   "outputs": [],
   "source": [
    "conn.commit()"
   ]
  },
  {
   "cell_type": "markdown",
   "id": "ee3813be",
   "metadata": {},
   "source": [
    "Testing the trigger : Insert salary larger than his or her supervisor"
   ]
  },
  {
   "cell_type": "code",
   "execution_count": 66,
   "id": "cce2bf1d",
   "metadata": {},
   "outputs": [
    {
     "ename": "IntegrityError",
     "evalue": "ERROR: Salary cannot be larger than his or her supervisor.",
     "output_type": "error",
     "traceback": [
      "\u001b[0;31m---------------------------------------------------------------------------\u001b[0m",
      "\u001b[0;31mIntegrityError\u001b[0m                            Traceback (most recent call last)",
      "\u001b[0;32m/var/folders/h4/ks8fvpr12l3bb75xw2xsw1yc0000gn/T/ipykernel_16368/1368076266.py\u001b[0m in \u001b[0;36m<module>\u001b[0;34m\u001b[0m\n\u001b[0;32m----> 1\u001b[0;31m c.execute('''\n\u001b[0m\u001b[1;32m      2\u001b[0m \u001b[0mINSERT\u001b[0m \u001b[0mINTO\u001b[0m \u001b[0mEMPLOYEE\u001b[0m\u001b[0;34m\u001b[0m\u001b[0;34m\u001b[0m\u001b[0m\n\u001b[1;32m      3\u001b[0m \u001b[0mVALUES\u001b[0m \u001b[0;34m(\u001b[0m\u001b[0;36m13\u001b[0m\u001b[0;34m,\u001b[0m \u001b[0;34m'Ryan'\u001b[0m\u001b[0;34m,\u001b[0m\u001b[0;34m'Xing'\u001b[0m\u001b[0;34m,\u001b[0m\u001b[0;34m'1991-05-01'\u001b[0m\u001b[0;34m,\u001b[0m\u001b[0;34m'2020-02-03'\u001b[0m\u001b[0;34m,\u001b[0m\u001b[0;34m'Male'\u001b[0m\u001b[0;34m,\u001b[0m\u001b[0;36m400000\u001b[0m\u001b[0;34m,\u001b[0m\u001b[0;36m10\u001b[0m\u001b[0;34m,\u001b[0m\u001b[0;36m100\u001b[0m\u001b[0;34m)\u001b[0m\u001b[0;34m;\u001b[0m\u001b[0;34m\u001b[0m\u001b[0;34m\u001b[0m\u001b[0m\n\u001b[1;32m      4\u001b[0m ''')\n",
      "\u001b[0;31mIntegrityError\u001b[0m: ERROR: Salary cannot be larger than his or her supervisor."
     ]
    }
   ],
   "source": [
    "c.execute('''\n",
    "INSERT INTO EMPLOYEE\n",
    "VALUES (13, 'Ryan','Xing','1991-05-01','2020-02-03','Male',400000,10,100);\n",
    "''')"
   ]
  },
  {
   "cell_type": "markdown",
   "id": "b6f0b971",
   "metadata": {},
   "source": [
    "Testing the trigger : Update salary larger than his or her supervisor"
   ]
  },
  {
   "cell_type": "code",
   "execution_count": 67,
   "id": "ebc28251",
   "metadata": {},
   "outputs": [
    {
     "ename": "IntegrityError",
     "evalue": "ERROR: Salary cannot be larger than his or her supervisor.",
     "output_type": "error",
     "traceback": [
      "\u001b[0;31m---------------------------------------------------------------------------\u001b[0m",
      "\u001b[0;31mIntegrityError\u001b[0m                            Traceback (most recent call last)",
      "\u001b[0;32m/var/folders/h4/ks8fvpr12l3bb75xw2xsw1yc0000gn/T/ipykernel_16368/3007620992.py\u001b[0m in \u001b[0;36m<module>\u001b[0;34m\u001b[0m\n\u001b[0;32m----> 1\u001b[0;31m c.execute('''\n\u001b[0m\u001b[1;32m      2\u001b[0m \u001b[0mUPDATE\u001b[0m \u001b[0mEMPLOYEE\u001b[0m\u001b[0;34m\u001b[0m\u001b[0;34m\u001b[0m\u001b[0m\n\u001b[1;32m      3\u001b[0m \u001b[0mSET\u001b[0m \u001b[0msalary\u001b[0m \u001b[0;34m=\u001b[0m \u001b[0;36m400000\u001b[0m\u001b[0;34m\u001b[0m\u001b[0;34m\u001b[0m\u001b[0m\n\u001b[1;32m      4\u001b[0m \u001b[0mWHERE\u001b[0m \u001b[0memployee_id\u001b[0m \u001b[0;34m=\u001b[0m \u001b[0;36m12\u001b[0m\u001b[0;34m;\u001b[0m\u001b[0;34m\u001b[0m\u001b[0;34m\u001b[0m\u001b[0m\n\u001b[1;32m      5\u001b[0m ''')\n",
      "\u001b[0;31mIntegrityError\u001b[0m: ERROR: Salary cannot be larger than his or her supervisor."
     ]
    }
   ],
   "source": [
    "c.execute('''\n",
    "UPDATE EMPLOYEE\n",
    "SET salary = 400000\n",
    "WHERE employee_id = 12;\n",
    "''')"
   ]
  },
  {
   "cell_type": "markdown",
   "id": "8b387adc",
   "metadata": {},
   "source": [
    "Testing the trigger : Insert salary smaller than his or her supervisor"
   ]
  },
  {
   "cell_type": "code",
   "execution_count": 68,
   "id": "8348fbd5",
   "metadata": {},
   "outputs": [
    {
     "data": {
      "text/plain": [
       "<sqlite3.Cursor at 0x7fdee2ce4ab0>"
      ]
     },
     "execution_count": 68,
     "metadata": {},
     "output_type": "execute_result"
    }
   ],
   "source": [
    "c.execute('''\n",
    "INSERT INTO EMPLOYEE\n",
    "VALUES (14, 'Yong','Xing','1991-05-01','2020-02-04','Female',100000,10,100);\n",
    "''')"
   ]
  },
  {
   "cell_type": "code",
   "execution_count": 69,
   "id": "12aa3a50",
   "metadata": {},
   "outputs": [],
   "source": [
    "conn.commit()"
   ]
  },
  {
   "cell_type": "markdown",
   "id": "d66f51e1",
   "metadata": {},
   "source": [
    "Testing the trigger : Update salary smaller than his or her supervisor"
   ]
  },
  {
   "cell_type": "code",
   "execution_count": 70,
   "id": "a4eb784f",
   "metadata": {},
   "outputs": [
    {
     "data": {
      "text/plain": [
       "<sqlite3.Cursor at 0x7fdee2ce4ab0>"
      ]
     },
     "execution_count": 70,
     "metadata": {},
     "output_type": "execute_result"
    }
   ],
   "source": [
    "c.execute('''\n",
    "UPDATE EMPLOYEE\n",
    "SET salary = 40000\n",
    "WHERE employee_id = 31;\n",
    "''')"
   ]
  },
  {
   "cell_type": "code",
   "execution_count": 71,
   "id": "357e919b",
   "metadata": {},
   "outputs": [],
   "source": [
    "conn.commit()"
   ]
  },
  {
   "cell_type": "markdown",
   "id": "8fb51dcc",
   "metadata": {},
   "source": [
    "3. Trigger: If the data is deleted from `EMPLOYEE` table, his or her employee id would be recored in`EMPLOYEE_LOG` table. The description would be denoted as 'deleted on the date that he or she quitted'."
   ]
  },
  {
   "cell_type": "markdown",
   "id": "4d17660a",
   "metadata": {},
   "source": [
    "Trigger: Record deleted employee data in `EMPLOYEE_LOG` table"
   ]
  },
  {
   "cell_type": "code",
   "execution_count": 72,
   "id": "7cc30e76",
   "metadata": {},
   "outputs": [
    {
     "data": {
      "text/plain": [
       "<sqlite3.Cursor at 0x7fdee2ce4ab0>"
      ]
     },
     "execution_count": 72,
     "metadata": {},
     "output_type": "execute_result"
    }
   ],
   "source": [
    "c.execute('''\n",
    "CREATE TRIGGER aft_delete AFTER DELETE ON EMPLOYEE\n",
    "BEGIN\n",
    "    INSERT INTO EMPLOYEE_LOG(employee_id, description)\n",
    "    VALUES (OLD.employee_id, 'Deleted on '|| date('NOW'));\n",
    "END;\n",
    "\n",
    "''')"
   ]
  },
  {
   "cell_type": "code",
   "execution_count": 73,
   "id": "d6b5a300",
   "metadata": {},
   "outputs": [],
   "source": [
    "conn.commit()"
   ]
  },
  {
   "cell_type": "markdown",
   "id": "d130de5a",
   "metadata": {},
   "source": [
    "Testing the trigger: Delete employee data from `EMPLOYEE` table"
   ]
  },
  {
   "cell_type": "code",
   "execution_count": 74,
   "id": "a934eb66",
   "metadata": {},
   "outputs": [
    {
     "data": {
      "text/plain": [
       "<sqlite3.Cursor at 0x7fdee2ce4ab0>"
      ]
     },
     "execution_count": 74,
     "metadata": {},
     "output_type": "execute_result"
    }
   ],
   "source": [
    "c.execute('''\n",
    "DELETE FROM EMPLOYEE\n",
    "WHERE employee_id = 31;\n",
    "''')"
   ]
  },
  {
   "cell_type": "code",
   "execution_count": 75,
   "id": "66c26035",
   "metadata": {},
   "outputs": [],
   "source": [
    "conn.commit()"
   ]
  },
  {
   "cell_type": "markdown",
   "id": "d5b92cff",
   "metadata": {},
   "source": [
    "Data of deleted employee is recorded in `EMPLOYEE_LOG` table"
   ]
  },
  {
   "cell_type": "code",
   "execution_count": 76,
   "id": "c8e5e0ab",
   "metadata": {},
   "outputs": [
    {
     "data": {
      "text/html": [
       "<div>\n",
       "<style scoped>\n",
       "    .dataframe tbody tr th:only-of-type {\n",
       "        vertical-align: middle;\n",
       "    }\n",
       "\n",
       "    .dataframe tbody tr th {\n",
       "        vertical-align: top;\n",
       "    }\n",
       "\n",
       "    .dataframe thead th {\n",
       "        text-align: right;\n",
       "    }\n",
       "</style>\n",
       "<table border=\"1\" class=\"dataframe\">\n",
       "  <thead>\n",
       "    <tr style=\"text-align: right;\">\n",
       "      <th></th>\n",
       "      <th>employee_id</th>\n",
       "      <th>description</th>\n",
       "    </tr>\n",
       "  </thead>\n",
       "  <tbody>\n",
       "    <tr>\n",
       "      <th>0</th>\n",
       "      <td>31</td>\n",
       "      <td>Deleted on 2022-12-09</td>\n",
       "    </tr>\n",
       "  </tbody>\n",
       "</table>\n",
       "</div>"
      ],
      "text/plain": [
       "   employee_id            description\n",
       "0           31  Deleted on 2022-12-09"
      ]
     },
     "execution_count": 76,
     "metadata": {},
     "output_type": "execute_result"
    }
   ],
   "source": [
    "employee_log = c.execute('''\n",
    "SELECT * FROM\n",
    "EMPLOYEE_LOG\n",
    "''').fetchall()\n",
    "\n",
    "employee_log = pd.DataFrame(employee_log)\n",
    "employee_log = employee_log.rename({0: 'employee_id', 1: 'description'}, axis=1)\n",
    "employee_log"
   ]
  },
  {
   "cell_type": "markdown",
   "id": "beb8b4cb",
   "metadata": {},
   "source": [
    "### SQL Commands"
   ]
  },
  {
   "cell_type": "markdown",
   "id": "564d8279",
   "metadata": {},
   "source": [
    "Identify the product that has the top sales."
   ]
  },
  {
   "cell_type": "code",
   "execution_count": 77,
   "id": "40ecd719",
   "metadata": {},
   "outputs": [],
   "source": [
    "top_product = c.execute('''\n",
    "SELECT PRODUCT.product_type, COUNT(*) as total\n",
    "FROM ATTENDS_TO JOIN PRODUCT\n",
    "ON ATTENDS_TO.product_id = PRODUCT.product_id\n",
    "GROUP BY PRODUCT.product_type\n",
    "ORDER BY total DESC\n",
    "LIMIT 1\n",
    "''').fetchall()"
   ]
  },
  {
   "cell_type": "code",
   "execution_count": 78,
   "id": "2e6e55b5",
   "metadata": {},
   "outputs": [
    {
     "data": {
      "text/html": [
       "<div>\n",
       "<style scoped>\n",
       "    .dataframe tbody tr th:only-of-type {\n",
       "        vertical-align: middle;\n",
       "    }\n",
       "\n",
       "    .dataframe tbody tr th {\n",
       "        vertical-align: top;\n",
       "    }\n",
       "\n",
       "    .dataframe thead th {\n",
       "        text-align: right;\n",
       "    }\n",
       "</style>\n",
       "<table border=\"1\" class=\"dataframe\">\n",
       "  <thead>\n",
       "    <tr style=\"text-align: right;\">\n",
       "      <th></th>\n",
       "      <th>product_type</th>\n",
       "      <th>total</th>\n",
       "    </tr>\n",
       "  </thead>\n",
       "  <tbody>\n",
       "    <tr>\n",
       "      <th>0</th>\n",
       "      <td>Paper</td>\n",
       "      <td>3</td>\n",
       "    </tr>\n",
       "  </tbody>\n",
       "</table>\n",
       "</div>"
      ],
      "text/plain": [
       "  product_type  total\n",
       "0        Paper      3"
      ]
     },
     "execution_count": 78,
     "metadata": {},
     "output_type": "execute_result"
    }
   ],
   "source": [
    "top_product = pd.DataFrame(top_product)\n",
    "top_product = top_product.rename({0: 'product_type', 1: 'total'}, axis=1)\n",
    "top_product"
   ]
  },
  {
   "cell_type": "markdown",
   "id": "9c97dd7d",
   "metadata": {},
   "source": [
    "List all first and last names of supervisors, with their corresponding start date in ascending order"
   ]
  },
  {
   "cell_type": "code",
   "execution_count": 79,
   "id": "b50b896d",
   "metadata": {},
   "outputs": [],
   "source": [
    "supervisor_start_date = c.execute('''\n",
    "SELECT DEPARTMENT.supervisor_start_date,EMPLOYEE.first_name, EMPLOYEE.last_name\n",
    "FROM EMPLOYEE INNER JOIN DEPARTMENT\n",
    "ON EMPLOYEE.employee_id = DEPARTMENT.supervisor_id\n",
    "ORDER BY DEPARTMENT.supervisor_start_date ASC\n",
    "''').fetchall()"
   ]
  },
  {
   "cell_type": "code",
   "execution_count": 80,
   "id": "37c2761e",
   "metadata": {},
   "outputs": [
    {
     "data": {
      "text/html": [
       "<div>\n",
       "<style scoped>\n",
       "    .dataframe tbody tr th:only-of-type {\n",
       "        vertical-align: middle;\n",
       "    }\n",
       "\n",
       "    .dataframe tbody tr th {\n",
       "        vertical-align: top;\n",
       "    }\n",
       "\n",
       "    .dataframe thead th {\n",
       "        text-align: right;\n",
       "    }\n",
       "</style>\n",
       "<table border=\"1\" class=\"dataframe\">\n",
       "  <thead>\n",
       "    <tr style=\"text-align: right;\">\n",
       "      <th></th>\n",
       "      <th>date</th>\n",
       "      <th>first_name</th>\n",
       "      <th>last_name</th>\n",
       "    </tr>\n",
       "  </thead>\n",
       "  <tbody>\n",
       "    <tr>\n",
       "      <th>0</th>\n",
       "      <td>2020-01-01</td>\n",
       "      <td>Jay</td>\n",
       "      <td>Chou</td>\n",
       "    </tr>\n",
       "    <tr>\n",
       "      <th>1</th>\n",
       "      <td>2020-01-21</td>\n",
       "      <td>Eric</td>\n",
       "      <td>Law</td>\n",
       "    </tr>\n",
       "    <tr>\n",
       "      <th>2</th>\n",
       "      <td>2020-02-01</td>\n",
       "      <td>Joseph</td>\n",
       "      <td>Chin</td>\n",
       "    </tr>\n",
       "  </tbody>\n",
       "</table>\n",
       "</div>"
      ],
      "text/plain": [
       "         date first_name last_name\n",
       "0  2020-01-01        Jay      Chou\n",
       "1  2020-01-21       Eric       Law\n",
       "2  2020-02-01     Joseph      Chin"
      ]
     },
     "execution_count": 80,
     "metadata": {},
     "output_type": "execute_result"
    }
   ],
   "source": [
    "supervisor_start_date = pd.DataFrame(supervisor_start_date)\n",
    "supervisor_start_date = supervisor_start_date.rename({0: 'date', 1: 'first_name',2:'last_name'}, axis=1)\n",
    "supervisor_start_date"
   ]
  },
  {
   "cell_type": "markdown",
   "id": "95d539f8",
   "metadata": {},
   "source": [
    "List names of clients that are managed by Joseph Chin in Deparment DEF"
   ]
  },
  {
   "cell_type": "code",
   "execution_count": 81,
   "id": "cd512ab8",
   "metadata": {},
   "outputs": [],
   "source": [
    "client_JC_branch200 = c.execute('''\n",
    "SELECT CLIENT.client_name, DEPARTMENT.department_name, EMPLOYEE.first_name, EMPLOYEE.last_name\n",
    "FROM CLIENT INNER JOIN DEPARTMENT\n",
    "ON CLIENT.department_id = DEPARTMENT.department_id\n",
    "INNER JOIN EMPLOYEE\n",
    "ON DEPARTMENT.supervisor_id = EMPLOYEE.employee_id\n",
    "WHERE EMPLOYEE.first_name = 'Joseph' AND EMPLOYEE.last_name = 'Chin';\n",
    "''').fetchall()"
   ]
  },
  {
   "cell_type": "code",
   "execution_count": 82,
   "id": "c3ab4333",
   "metadata": {},
   "outputs": [
    {
     "data": {
      "text/html": [
       "<div>\n",
       "<style scoped>\n",
       "    .dataframe tbody tr th:only-of-type {\n",
       "        vertical-align: middle;\n",
       "    }\n",
       "\n",
       "    .dataframe tbody tr th {\n",
       "        vertical-align: top;\n",
       "    }\n",
       "\n",
       "    .dataframe thead th {\n",
       "        text-align: right;\n",
       "    }\n",
       "</style>\n",
       "<table border=\"1\" class=\"dataframe\">\n",
       "  <thead>\n",
       "    <tr style=\"text-align: right;\">\n",
       "      <th></th>\n",
       "      <th>client_name</th>\n",
       "      <th>department_name</th>\n",
       "      <th>first_name</th>\n",
       "      <th>last_name</th>\n",
       "    </tr>\n",
       "  </thead>\n",
       "  <tbody>\n",
       "    <tr>\n",
       "      <th>0</th>\n",
       "      <td>Lynn</td>\n",
       "      <td>DEF</td>\n",
       "      <td>Joseph</td>\n",
       "      <td>Chin</td>\n",
       "    </tr>\n",
       "    <tr>\n",
       "      <th>1</th>\n",
       "      <td>Leo</td>\n",
       "      <td>DEF</td>\n",
       "      <td>Joseph</td>\n",
       "      <td>Chin</td>\n",
       "    </tr>\n",
       "  </tbody>\n",
       "</table>\n",
       "</div>"
      ],
      "text/plain": [
       "  client_name department_name first_name last_name\n",
       "0        Lynn             DEF     Joseph      Chin\n",
       "1         Leo             DEF     Joseph      Chin"
      ]
     },
     "execution_count": 82,
     "metadata": {},
     "output_type": "execute_result"
    }
   ],
   "source": [
    "client_JC_branch200 = pd.DataFrame(client_JC_branch200)\n",
    "client_JC_branch200 = client_JC_branch200.rename({0: 'client_name', 1: 'department_name',2:'first_name'\n",
    "                                                 ,3:'last_name'}, axis=1)\n",
    "client_JC_branch200"
   ]
  },
  {
   "cell_type": "markdown",
   "id": "a968491c",
   "metadata": {},
   "source": [
    "List departments and with largest number of clients."
   ]
  },
  {
   "cell_type": "code",
   "execution_count": 83,
   "id": "da35b544",
   "metadata": {},
   "outputs": [],
   "source": [
    "department_client = c.execute('''\n",
    "SELECT DEPARTMENT.department_name, COUNT(*) as total\n",
    "FROM DEPARTMENT INNER JOIN CLIENT \n",
    "ON DEPARTMENT.department_id = CLIENT.department_id\n",
    "GROUP BY DEPARTMENT.department_name\n",
    "ORDER BY total DESC\n",
    "LIMIT 1\n",
    "''').fetchall()"
   ]
  },
  {
   "cell_type": "code",
   "execution_count": 84,
   "id": "5b0a3450",
   "metadata": {},
   "outputs": [
    {
     "data": {
      "text/html": [
       "<div>\n",
       "<style scoped>\n",
       "    .dataframe tbody tr th:only-of-type {\n",
       "        vertical-align: middle;\n",
       "    }\n",
       "\n",
       "    .dataframe tbody tr th {\n",
       "        vertical-align: top;\n",
       "    }\n",
       "\n",
       "    .dataframe thead th {\n",
       "        text-align: right;\n",
       "    }\n",
       "</style>\n",
       "<table border=\"1\" class=\"dataframe\">\n",
       "  <thead>\n",
       "    <tr style=\"text-align: right;\">\n",
       "      <th></th>\n",
       "      <th>department_name</th>\n",
       "      <th>no_of_client</th>\n",
       "    </tr>\n",
       "  </thead>\n",
       "  <tbody>\n",
       "    <tr>\n",
       "      <th>0</th>\n",
       "      <td>GHI</td>\n",
       "      <td>4</td>\n",
       "    </tr>\n",
       "  </tbody>\n",
       "</table>\n",
       "</div>"
      ],
      "text/plain": [
       "  department_name  no_of_client\n",
       "0             GHI             4"
      ]
     },
     "execution_count": 84,
     "metadata": {},
     "output_type": "execute_result"
    }
   ],
   "source": [
    "department_client = pd.DataFrame(department_client)\n",
    "department_client = department_client.rename({0: 'department_name', 1: 'no_of_client'}, axis=1)\n",
    "department_client"
   ]
  },
  {
   "cell_type": "markdown",
   "id": "9cdb3c5b",
   "metadata": {},
   "source": [
    "List top employee with top sales"
   ]
  },
  {
   "cell_type": "code",
   "execution_count": 85,
   "id": "02cda807",
   "metadata": {},
   "outputs": [],
   "source": [
    "top_employee = c.execute('''\n",
    "SELECT EMPLOYEE.first_name,EMPLOYEE.last_name,SUM(PRODUCT.price) as sum\n",
    "FROM ATTENDS_TO INNER JOIN PRODUCT\n",
    "ON ATTENDS_TO.product_id =PRODUCT.product_id \n",
    "INNER JOIN EMPLOYEE\n",
    "ON ATTENDS_TO.employee_id = EMPLOYEE.employee_id\n",
    "GROUP BY ATTENDS_TO.employee_id\n",
    "ORDER BY sum DESC\n",
    "LIMIT 1\n",
    "''').fetchall()"
   ]
  },
  {
   "cell_type": "code",
   "execution_count": 86,
   "id": "582700d0",
   "metadata": {},
   "outputs": [
    {
     "data": {
      "text/html": [
       "<div>\n",
       "<style scoped>\n",
       "    .dataframe tbody tr th:only-of-type {\n",
       "        vertical-align: middle;\n",
       "    }\n",
       "\n",
       "    .dataframe tbody tr th {\n",
       "        vertical-align: top;\n",
       "    }\n",
       "\n",
       "    .dataframe thead th {\n",
       "        text-align: right;\n",
       "    }\n",
       "</style>\n",
       "<table border=\"1\" class=\"dataframe\">\n",
       "  <thead>\n",
       "    <tr style=\"text-align: right;\">\n",
       "      <th></th>\n",
       "      <th>first_name</th>\n",
       "      <th>last_name</th>\n",
       "      <th>top_sales</th>\n",
       "    </tr>\n",
       "  </thead>\n",
       "  <tbody>\n",
       "    <tr>\n",
       "      <th>0</th>\n",
       "      <td>Emily</td>\n",
       "      <td>Tan</td>\n",
       "      <td>35.0</td>\n",
       "    </tr>\n",
       "  </tbody>\n",
       "</table>\n",
       "</div>"
      ],
      "text/plain": [
       "  first_name last_name  top_sales\n",
       "0      Emily       Tan       35.0"
      ]
     },
     "execution_count": 86,
     "metadata": {},
     "output_type": "execute_result"
    }
   ],
   "source": [
    "top_employee = pd.DataFrame(top_employee)\n",
    "top_employee = top_employee.rename({0: 'first_name', 1: 'last_name',2:'top_sales'}, axis=1)\n",
    "top_employee"
   ]
  },
  {
   "cell_type": "markdown",
   "id": "ad688829",
   "metadata": {},
   "source": [
    "### Disconnecting from the Database"
   ]
  },
  {
   "cell_type": "code",
   "execution_count": 87,
   "id": "600d2c38",
   "metadata": {},
   "outputs": [],
   "source": [
    "conn.close()"
   ]
  }
 ],
 "metadata": {
  "kernelspec": {
   "display_name": "Python 3 (ipykernel)",
   "language": "python",
   "name": "python3"
  },
  "language_info": {
   "codemirror_mode": {
    "name": "ipython",
    "version": 3
   },
   "file_extension": ".py",
   "mimetype": "text/x-python",
   "name": "python",
   "nbconvert_exporter": "python",
   "pygments_lexer": "ipython3",
   "version": "3.9.7"
  }
 },
 "nbformat": 4,
 "nbformat_minor": 5
}
